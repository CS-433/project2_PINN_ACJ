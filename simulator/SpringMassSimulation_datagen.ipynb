{
 "cells": [
  {
   "cell_type": "code",
   "execution_count": 1,
   "id": "e36c0054",
   "metadata": {},
   "outputs": [],
   "source": [
    "import numpy as np\n",
    "import matplotlib.pyplot as plt\n",
    "from SpringMassSystem import SpringMassSystem\n",
    "import scipy.integrate as integrate\n",
    "import pandas as pd\n",
    "%matplotlib notebook\n",
    "%load_ext autoreload\n",
    "%autoreload 2"
   ]
  },
  {
   "cell_type": "code",
   "execution_count": 2,
   "id": "e0311a4d",
   "metadata": {},
   "outputs": [],
   "source": [
    "# initialize the SpringMass model\n",
    "\n",
    "ndim = 2          # choose between 1D (ndim=1) or 2D (ndim=2) system\n",
    "N_m = 1           # number of nodes\n",
    "L0 = 5            # springs' rest length (m)\n",
    "k0 = 50           # spring stiffness (f = k*dx) (N/m)\n",
    "m0 = 1            # node mass (kg)\n",
    "\n",
    "model = SpringMassSystem(ndim, N_m, L0, k0, m0)\n",
    "# model.initialize_as_caternary()"
   ]
  },
  {
   "cell_type": "code",
   "execution_count": 3,
   "id": "36f82094",
   "metadata": {},
   "outputs": [],
   "source": [
    "# solve the model ODE\n",
    "\n",
    "dt = 0.01         # set evaluation timestep (this sets the solver's max stepsize)\n",
    "t_eval = np.arange(0,20,dt)\n",
    "\n",
    "sol = integrate.solve_ivp(\n",
    "    fun=model.compute_augmented_xdot, \n",
    "    t_span=[t_eval[0], t_eval[-1]], \n",
    "    t_eval=t_eval,\n",
    "    y0=model.get_initial_X_aug(), \n",
    "    method='RK45',)\n",
    "\n",
    "# solution data - times, positions, velocities\n",
    "t = sol.t\n",
    "X_t = np.reshape(sol.y[:N_m * ndim,:], (N_m,-1,len(t)))\n",
    "Xdot_t = np.reshape(sol.y[N_m * ndim:,:], (N_m,-1,len(t)))"
   ]
  },
  {
   "cell_type": "code",
   "execution_count": 4,
   "id": "ac4c23ef",
   "metadata": {},
   "outputs": [],
   "source": [
    "Xddot_t = []\n",
    "for i, _ in enumerate(t):\n",
    "    Xddot_t.append(model.compute_Xddot(X_t[:,:,i])[:,:,np.newaxis])\n",
    "\n",
    "Xddot_t = np.concatenate(Xddot_t, axis=2)\n",
    "\n",
    "X_ends_t = np.concatenate((\n",
    "    np.kron(np.ones((1,len(t))), model.xL.T)[np.newaxis,:,:],\n",
    "    np.kron(np.ones((1,len(t))), model.xR.T)[np.newaxis,:,:]\n",
    ")).reshape((-1, len(t)))"
   ]
  },
  {
   "cell_type": "code",
   "execution_count": 5,
   "id": "093f493e",
   "metadata": {},
   "outputs": [],
   "source": [
    "# tmp = np.concatenate((X_t,Xdot_t),axis=1).reshape((-1, len(t)))\n",
    "\n",
    "# for mass_id in range(Xdot_t.shape[0]):\n",
    "#     for ax in range(Xdot_t.shape[1]):\n",
    "#         ax_labels = ['x','y']\n",
    "#         # positions        \n",
    "#         assert(np.allclose(X_t[mass_id,ax,:], tmp[mass_id*4 + ax,:]))\n",
    "#         # velocities\n",
    "#         assert(np.allclose(Xdot_t[mass_id,ax,:], tmp[mass_id*4 + ax + 2,:]))\n",
    "\n",
    "#import pandas as pd\n",
    "\n",
    "data_matrix = np.concatenate((X_t, Xdot_t, Xddot_t),axis=1).reshape((-1, len(t)))\n",
    "data_matrix = np.concatenate((X_ends_t[0:2,:], data_matrix), axis=0)\n",
    "data_matrix = np.concatenate((data_matrix, X_ends_t[2:4,:]), axis=0)\n",
    "data_matrix = np.concatenate((t[np.newaxis,:], data_matrix), axis=0)\n",
    "#data_matrix = np.concatenate((data_matrix, X_ends_t), axis=0)\n",
    "\n",
    "col_labels = ['t']\n",
    "label_types = ['r', 'rdot', 'rddot']\n",
    "dims = ['x','y','z']\n",
    "dims = dims[:ndim]\n",
    "\n",
    "for dim in dims:\n",
    "    col_labels += ['r0_' + str(dim)]\n",
    "\n",
    "for mass_idx in range(N_m):\n",
    "    for label in label_types:\n",
    "        for dim in dims:\n",
    "            col_labels.append(label + str(mass_idx+1) + '_' + str(dim))\n",
    "\n",
    "for dim in dims:\n",
    "    col_labels += ['r'+ str(N_m+1)+'_'+ str(dim)]\n",
    "\n",
    "    \n",
    "#for mass_idx in range(N_m):\n",
    "#    for label in label_types:\n",
    "#        for dim in dims:\n",
    "#            col_labels.append(label + str(mass_idx+1) + '_' + str(dim))\n",
    "\n",
    "#for dim in dims:\n",
    "#    col_labels += ['r0_' + str(dim)]\n",
    "\n",
    "#for dim in dims:\n",
    "#    col_labels += ['r'+ str(N_m+1)+'_'+ str(dim)]\n",
    "\n",
    "file_name = str('k='+str(k0)+'_'+'L='+str(L0)+'_'+'N='+str(N_m+2)+'.csv')\n",
    "            \n",
    "pd.DataFrame(data=data_matrix.T, columns=col_labels).to_csv(file_name, index=False)"
   ]
  },
  {
   "cell_type": "code",
   "execution_count": null,
   "id": "ebd2dcae",
   "metadata": {
    "scrolled": true
   },
   "outputs": [],
   "source": [
    "num_plots = min(N_m, 4)\n",
    "fig, axs = plt.subplots(1, num_plots)\n",
    "for i in range(num_plots):\n",
    "    axs[i].plot(t, X_t[i+1,:,:].T)"
   ]
  },
  {
   "cell_type": "code",
   "execution_count": null,
   "id": "4158cc49",
   "metadata": {},
   "outputs": [],
   "source": [
    "import matplotlib.animation as animation\n",
    "from collections import deque\n",
    "\n",
    "history_len = len(t)  # how many trajectory points to display\n",
    "\n",
    "L = L0 * (N_m // 2) * 1.5\n",
    "fig = plt.figure(figsize=(5, 4))\n",
    "ax = fig.add_subplot(autoscale_on=False, xlim=(-L + L0*(N_m+1)/2, L + L0*(N_m+1)/2), ylim=(-L, L))\n",
    "ax.set_aspect('equal')\n",
    "ax.grid()\n",
    "\n",
    "line, = ax.plot([], [], 'o-', lw=2)\n",
    "trace, = ax.plot([], [], '.-', lw=1, ms=2)\n",
    "time_template = 'time = %.1fs'\n",
    "time_text = ax.text(0.05, 0.9, '', transform=ax.transAxes)\n",
    "history_x, history_y = deque(maxlen=history_len), deque(maxlen=history_len)\n",
    "\n",
    "\n",
    "def animate(i):\n",
    "    thisx = X_t[:, 0, i]\n",
    "    if ndim == 1:\n",
    "        thisy = np.zeros_like(thisx)\n",
    "    else:\n",
    "        thisy = X_t[:, 1, i]\n",
    "\n",
    "    if i == 0:\n",
    "        history_x.clear()\n",
    "        history_y.clear()\n",
    "\n",
    "    history_x.appendleft(thisx[1 + (N_m // 2)])\n",
    "    history_y.appendleft(thisy[1 + (N_m // 2)])\n",
    "\n",
    "    line.set_data(thisx, thisy)\n",
    "    trace.set_data(history_x, history_y)\n",
    "    time_text.set_text(time_template % (i*dt))\n",
    "    return line, trace, time_text\n",
    "\n",
    "\n",
    "ani = animation.FuncAnimation(\n",
    "    fig, animate, len(t), interval=dt*1000, blit=True)\n",
    "plt.show()"
   ]
  }
 ],
 "metadata": {
  "kernelspec": {
   "display_name": "Python 3.10.8 64-bit (microsoft store)",
   "language": "python",
   "name": "python3"
  },
  "language_info": {
   "codemirror_mode": {
    "name": "ipython",
    "version": 3
   },
   "file_extension": ".py",
   "mimetype": "text/x-python",
   "name": "python",
   "nbconvert_exporter": "python",
   "pygments_lexer": "ipython3",
   "version": "3.10.8"
  },
  "vscode": {
   "interpreter": {
    "hash": "e00603a611004e0aac9c6538af4b75756eb49ae1eacb81c5aa38e479beaf0e29"
   }
  }
 },
 "nbformat": 4,
 "nbformat_minor": 5
}
