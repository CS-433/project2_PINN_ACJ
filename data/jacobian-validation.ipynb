{
 "cells": [
  {
   "cell_type": "code",
   "execution_count": 2,
   "metadata": {},
   "outputs": [],
   "source": [
    "import numpy as np"
   ]
  },
  {
   "cell_type": "code",
   "execution_count": 27,
   "metadata": {},
   "outputs": [
    {
     "name": "stdout",
     "output_type": "stream",
     "text": [
      "<function <lambda> at 0x7faa0650bee0>\n"
     ]
    }
   ],
   "source": [
    "k0 = 1.37\n",
    "L0 = 1.0\n",
    "\n",
    "r1 = np.array([0.1, -0.4])\n",
    "r2 = np.array([1.0, 2.0])\n",
    "\n",
    "dr = r2 - r1\n",
    "\n",
    "# r1 = me, r2 = other mass\n",
    "getSpringForce = lambda r1, r2: k0*(1 - L0/np.sqrt(np.sum((r2 - r1)**2)))*(r2 - r1)\n",
    "\n",
    "print(getSpringForce)"
   ]
  },
  {
   "cell_type": "code",
   "execution_count": 55,
   "metadata": {},
   "outputs": [
    {
     "name": "stdout",
     "output_type": "stream",
     "text": [
      "[0.48103911 1.28277097]\n"
     ]
    }
   ],
   "source": [
    "eps = 1e-12\n",
    "# vec = np.array([1,0])\n",
    "vec = (r2 - r1) / np.linalg.norm(r1-r2)\n",
    "print(np.imag(getSpringForce(r1, r2 + eps*vec*1j))/eps)\n",
    "\n",
    "# vec = np.array([1,0])\n",
    "# print(np.imag(getSpringForce(np.array([1,0]), np.array([4,0]) + eps*vec*1j))/eps)"
   ]
  },
  {
   "cell_type": "code",
   "execution_count": 65,
   "metadata": {},
   "outputs": [
    {
     "name": "stdout",
     "output_type": "stream",
     "text": [
      "[0.48103911 1.28277097]\n",
      "[0.48103911 1.28277097]\n",
      "1.37\n"
     ]
    }
   ],
   "source": [
    "def compute_fd(f, r1, r2, vec):\n",
    "    eps = 1e-13\n",
    "    return np.imag(f(r1, r2+eps*vec*1j))/eps\n",
    "\n",
    "jac = np.c_[(\n",
    "    compute_fd(getSpringForce, r1, r2, np.array([1,0])),\n",
    "    compute_fd(getSpringForce, r1, r2, np.array([0,1])))]\n",
    "\n",
    "print(vec.T@jac)\n",
    "print(compute_fd(getSpringForce, r1, r2, vec))\n",
    "\n",
    "ax_vec = (r2-r1)/np.linalg.norm(r2-r1)\n",
    "print(np.linalg.norm(ax_vec.T@jac))"
   ]
  },
  {
   "cell_type": "code",
   "execution_count": 128,
   "metadata": {},
   "outputs": [
    {
     "name": "stdout",
     "output_type": "stream",
     "text": [
      "1.3699999999999994\n",
      "1.3699999999999988\n"
     ]
    }
   ],
   "source": [
    "def getSpringForcesOnMass(r1, r2, r3):\n",
    "    return getSpringForce(r2,r1) + getSpringForce(r2,r3)\n",
    "    \n",
    "\n",
    "# getSpringForcesOnMass(np.array([0.,0.]), np.array([1.0,0.0]), np.array([2.0,0.]))\n",
    "\n",
    "r1 = np.random.uniform(size=(2))\n",
    "r2 = np.random.uniform(size=(2))\n",
    "r3 = np.random.uniform(size=(2))\n",
    "\n",
    "ax_vec1 = (r2-r1)/np.linalg.norm(r2-r1)\n",
    "ax_vec3 = (r2-r3)/np.linalg.norm(r2-r3)\n",
    "\n",
    "def compute_fd_1(f, r1, r2, r3, vec):\n",
    "    eps = 1e-13\n",
    "    return np.imag(f(r1+eps*vec*1j, r2, r3))/eps\n",
    "\n",
    "def compute_fd_2(f, r1, r2, r3, vec):\n",
    "    eps = 1e-13\n",
    "    return np.imag(f(r1, r2+eps*vec*1j, r3))/eps\n",
    "\n",
    "def compute_fd_3(f, r1, r2, r3, vec):\n",
    "    eps = 1e-13\n",
    "    return np.imag(f(r1, r2, r3+eps*vec*1j))/eps\n",
    "\n",
    "print(np.linalg.norm(compute_fd_1(getSpringForcesOnMass, r1, r2, r3, ax_vec1)))\n",
    "print(np.linalg.norm(compute_fd_3(getSpringForcesOnMass, r1, r2, r3, ax_vec3)))\n"
   ]
  },
  {
   "cell_type": "code",
   "execution_count": 160,
   "metadata": {},
   "outputs": [
    {
     "name": "stdout",
     "output_type": "stream",
     "text": [
      "(10, 2, 6)\n",
      "(10, 2)\n",
      "(10, 2)\n",
      "True\n",
      "True\n",
      "[1.37 1.37 1.37 1.37 1.37 1.37 1.37 1.37 1.37 1.37]\n",
      "[1.37 1.37 1.37 1.37 1.37 1.37 1.37 1.37 1.37 1.37]\n"
     ]
    }
   ],
   "source": [
    "B = 10\n",
    "\n",
    "def getJacobian(r1,r2,r3):\n",
    "    return np.stack(\n",
    "        (\n",
    "            compute_fd_1(getSpringForcesOnMass, r1, r2, r3, np.array([1,0])),\n",
    "            compute_fd_1(getSpringForcesOnMass, r1, r2, r3, np.array([0,1])),\n",
    "            compute_fd_2(getSpringForcesOnMass, r1, r2, r3, np.array([1,0])),\n",
    "            compute_fd_2(getSpringForcesOnMass, r1, r2, r3, np.array([0,1])),\n",
    "            compute_fd_3(getSpringForcesOnMass, r1, r2, r3, np.array([1,0])),\n",
    "            compute_fd_3(getSpringForcesOnMass, r1, r2, r3, np.array([0,1])),\n",
    "        )\n",
    "    ).T\n",
    "\n",
    "def getDs1(r1,r2,r3):\n",
    "    return (r1-r2) / np.linalg.norm(r1-r2)\n",
    "\n",
    "def getDs3(r1,r2,r3):\n",
    "    return (r3-r2) / np.linalg.norm(r3-r2)\n",
    "\n",
    "jacList = []\n",
    "s1List = []\n",
    "s3List = []\n",
    "out1List = []\n",
    "out3List = []\n",
    "\n",
    "for _ in range(B):\n",
    "    r1 = np.random.uniform(size=(2))\n",
    "    r2 = np.random.uniform(size=(2))\n",
    "    r3 = np.random.uniform(size=(2))\n",
    "    jac = getJacobian(r1,r2,r3)\n",
    "    ds1 = getDs1(r1,r2,r3)\n",
    "    ds3 = getDs3(r1,r2,r3)\n",
    "    jacList.append(jac)\n",
    "    s1List.append(ds1)\n",
    "    s3List.append(ds3)\n",
    "    out1List.append(ds1.T@jac[:,:2])\n",
    "    out3List.append(ds3.T@jac[:,4:])\n",
    "\n",
    "\n",
    "# print(getJacobian(r1,r2,r3))\n",
    "jacList = np.stack(jacList)\n",
    "s1List = np.stack(s1List)\n",
    "s3List = np.stack(s3List)\n",
    "out1List = np.stack(out1List)\n",
    "out3List = np.stack(out3List)\n",
    "print(jacList.shape)\n",
    "print(s1List.shape)\n",
    "print(s3List.shape)\n",
    "\n",
    "print(np.allclose(np.einsum('ijk,ik->ij', jacList[:,:,:2], s1List), out1List))\n",
    "print(np.allclose(np.einsum('ijk,ik->ij', jacList[:,:,4:], s3List), out3List))\n",
    "\n",
    "print(np.sqrt(np.sum(np.einsum('ijk,ik->ij', jacList[:,:,:2], s1List)**2, axis=1)))\n",
    "print(np.sqrt(np.sum(np.einsum('ijk,ik->ij', jacList[:,:,4:], s3List)**2, axis=1)))\n"
   ]
  },
  {
   "cell_type": "code",
   "execution_count": 161,
   "metadata": {},
   "outputs": [],
   "source": [
    "np.save(\"jac.npy\", jacList)\n",
    "np.save(\"s1.npy\", s1List)\n",
    "np.save(\"s2.npy\", s3List)\n",
    "np.save(\"out1.npy\", out1List)\n",
    "np.save(\"out2.npy\", out3List)"
   ]
  }
 ],
 "metadata": {
  "kernelspec": {
   "display_name": "Python 3.9.13 ('gc_course_env')",
   "language": "python",
   "name": "python3"
  },
  "language_info": {
   "codemirror_mode": {
    "name": "ipython",
    "version": 3
   },
   "file_extension": ".py",
   "mimetype": "text/x-python",
   "name": "python",
   "nbconvert_exporter": "python",
   "pygments_lexer": "ipython3",
   "version": "3.9.13"
  },
  "orig_nbformat": 4,
  "vscode": {
   "interpreter": {
    "hash": "55770c8f6034bf9419c1e6f331d5e7c4e67c67b3ee8c66f62d15c8ec1d130311"
   }
  }
 },
 "nbformat": 4,
 "nbformat_minor": 2
}
